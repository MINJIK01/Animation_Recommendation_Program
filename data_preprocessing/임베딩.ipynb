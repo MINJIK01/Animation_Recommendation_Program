{
 "cells": [
  {
   "cell_type": "code",
   "execution_count": 1,
   "id": "2911edee",
   "metadata": {},
   "outputs": [],
   "source": [
    "import os\n",
    "\n",
    "currentPath = os.getcwd()"
   ]
  },
  {
   "cell_type": "code",
   "execution_count": 2,
   "id": "f5b120a9",
   "metadata": {},
   "outputs": [],
   "source": [
    "import gensim\n",
    "\n",
    "ko_model = gensim.models.Word2Vec.load('ko.bin')"
   ]
  },
  {
   "cell_type": "code",
   "execution_count": 34,
   "id": "d35ffc8a",
   "metadata": {},
   "outputs": [
    {
     "name": "stdout",
     "output_type": "stream",
     "text": [
      "[('용의', 0.18838731944561005), ('소꿉', 0.1798814833164215), ('고향', 0.17961794137954712), ('초등학교', 0.17064708471298218), ('놓치', 0.16264021396636963), ('신화', 0.16248008608818054), ('학창', 0.16236993670463562), ('얼음', 0.15598049759864807), ('혼령', 0.15384003520011902), ('전원', 0.15128940343856812)]\n"
     ]
    }
   ],
   "source": [
    "a = ko_model.wv.most_similar(\"떡잎\")\n",
    "print(a)"
   ]
  },
  {
   "cell_type": "code",
   "execution_count": 3,
   "id": "11cbc197",
   "metadata": {},
   "outputs": [],
   "source": [
    "import pandas as pd\n",
    "df = pd.read_csv('줄거리최종.csv', encoding='utf-8')"
   ]
  },
  {
   "cell_type": "code",
   "execution_count": 4,
   "id": "d14b0555",
   "metadata": {},
   "outputs": [],
   "source": [
    "story = df['plot_tag']\n",
    "for i in range(2120):\n",
    "  story[i] = story[i].split()"
   ]
  },
  {
   "cell_type": "code",
   "execution_count": 5,
   "id": "a290df0a",
   "metadata": {},
   "outputs": [],
   "source": [
    "word_vectors = ko_model.wv\n",
    "vocabs            = word_vectors.vocab.keys()\n",
    "word_vectors_list = [word_vectors[v] for v in vocabs]"
   ]
  },
  {
   "cell_type": "code",
   "execution_count": 12,
   "id": "f51ff0de",
   "metadata": {},
   "outputs": [],
   "source": [
    "word_vectors_list = [word_vectors[v] for v in vocabs2]"
   ]
  },
  {
   "cell_type": "code",
   "execution_count": 30,
   "id": "5ddec5a6",
   "metadata": {},
   "outputs": [
    {
     "data": {
      "text/plain": [
       "2389"
      ]
     },
     "execution_count": 30,
     "metadata": {},
     "output_type": "execute_result"
    }
   ],
   "source": [
    "len(word_vectors_list)"
   ]
  },
  {
   "cell_type": "code",
   "execution_count": 10,
   "id": "673863f4",
   "metadata": {},
   "outputs": [],
   "source": [
    "a_list = list(vocabs)"
   ]
  },
  {
   "cell_type": "code",
   "execution_count": 9,
   "id": "f694a8c2",
   "metadata": {},
   "outputs": [],
   "source": [
    "b_list = list(vocabs2)"
   ]
  },
  {
   "cell_type": "code",
   "execution_count": 7,
   "id": "c4ba070a",
   "metadata": {},
   "outputs": [],
   "source": [
    "from gensim.models import Word2Vec\n",
    "model = Word2Vec(sentences = story, size = 1000, window = 1, min_count = 1, workers = 4, sg = 0)\n",
    "word_vectors = model.wv\n",
    "vocabs2            = word_vectors.vocab.keys()"
   ]
  },
  {
   "cell_type": "code",
   "execution_count": 11,
   "id": "c4a8747f",
   "metadata": {
    "scrolled": true
   },
   "outputs": [
    {
     "name": "stdout",
     "output_type": "stream",
     "text": [
      "무거움\n",
      "시대물\n",
      "여성향\n",
      "충격의\n",
      "노이타미나\n",
      "삼각관계\n",
      "결판\n",
      "스파이커\n",
      "샐러리맨\n",
      "이세계\n",
      "상상의\n",
      "합숙\n",
      "두뇌싸움\n",
      "남성향\n",
      "동양풍\n",
      "루프물\n",
      "역하렘\n",
      "마물\n",
      "서양풍\n",
      "시간여행\n",
      "내디디\n",
      "짜증나\n",
      "짓궂\n",
      "전학생\n",
      "숨막히\n",
      "사후세계\n",
      "떡잎\n",
      "단둘\n",
      "설레\n",
      "내몰리\n",
      "비밀조직\n",
      "은발\n",
      "지식전달\n",
      "처절\n",
      "운명적\n",
      "짖궂\n",
      "입부하\n",
      "여자애\n",
      "도사리\n",
      "서커스단\n",
      "디스토피아\n",
      "불타오르\n",
      "대자연\n",
      "퇴마\n",
      "숨가쁘\n",
      "문제아\n",
      "낙제\n",
      "흩날리\n",
      "권속\n",
      "폐부\n",
      "암약\n",
      "내딛\n",
      "도둑맞\n",
      "뒷골목\n",
      "두근거리\n",
      "유녀\n",
      "전대미문\n",
      "초대장\n",
      "꿈속\n",
      "미증유\n",
      "단짝\n",
      "모험담\n",
      "밀짚모자\n",
      "여행길\n",
      "얼떨결\n",
      "강적\n",
      "놀러가\n",
      "중등부\n",
      "해적선\n",
      "날아들\n",
      "은인\n",
      "참극\n",
      "분신술\n",
      "엽기\n",
      "천진난만\n",
      "앞길\n",
      "배달부\n",
      "배리어프리\n",
      "사이좋\n",
      "막아서\n",
      "미식가\n",
      "스릴\n",
      "서랍\n",
      "어린\n",
      "좌충우돌\n",
      "위험천만\n",
      "먹보\n",
      "장난꾸러기\n",
      "쥬라기\n",
      "개구쟁이\n",
      "호시탐탐\n",
      "말썽꾸러기\n",
      "대발\n"
     ]
    }
   ],
   "source": [
    "for i in range(len(b_list)):\n",
    "    if b_list[i] not in a_list:\n",
    "        print(b_list[i])"
   ]
  },
  {
   "cell_type": "code",
   "execution_count": 31,
   "id": "4ab268a8",
   "metadata": {
    "scrolled": true
   },
   "outputs": [
    {
     "name": "stderr",
     "output_type": "stream",
     "text": [
      "<ipython-input-31-9e4d726cc40c>:1: DeprecationWarning: Call to deprecated `iter` (Attribute will be removed in 4.0.0, use self.epochs instead).\n",
      "  ko_model.train(vocabs2, total_examples=total_examples, epochs=ko_model.iter)\n"
     ]
    },
    {
     "data": {
      "text/plain": [
       "(20191, 27280)"
      ]
     },
     "execution_count": 31,
     "metadata": {},
     "output_type": "execute_result"
    }
   ],
   "source": [
    "ko_model.train(vocabs2, total_examples=total_examples, epochs=ko_model.iter)"
   ]
  },
  {
   "cell_type": "code",
   "execution_count": 15,
   "id": "6b14080a",
   "metadata": {
    "scrolled": true
   },
   "outputs": [],
   "source": [
    "from gensim.models import Word2Vec, KeyedVectors\n",
    "\n",
    "ko_model = Word2Vec(size=300, min_count = 1)\n",
    "ko_model.build_vocab(vocabs2)\n",
    "total_examples = ko_model.corpus_count\n",
    "\n",
    "ko_model.build_vocab([list(model.wv.vocab.keys())], update=True)\n"
   ]
  },
  {
   "cell_type": "code",
   "execution_count": 23,
   "id": "68c693b8",
   "metadata": {},
   "outputs": [],
   "source": [
    "import csv\n",
    "\n",
    "with open('test2.csv', 'w',newline='') as f: \n",
    "      \n",
    "    # using csv.writer method from CSV package \n",
    "    write = csv.writer(f)\n",
    "    write.writerows(word_vectors_list)"
   ]
  },
  {
   "cell_type": "code",
   "execution_count": 25,
   "id": "ce7ebfdb",
   "metadata": {},
   "outputs": [],
   "source": [
    "model_name = 'our_model'\n",
    "ko_model.save(model_name)"
   ]
  },
  {
   "cell_type": "code",
   "execution_count": 51,
   "id": "138efdea",
   "metadata": {},
   "outputs": [],
   "source": [
    "import numpy as np"
   ]
  },
  {
   "cell_type": "code",
   "execution_count": 66,
   "id": "a2d4e1de",
   "metadata": {},
   "outputs": [],
   "source": [
    "def anime_vector(model, story):\n",
    "    word_vector = model.wv\n",
    "    anime_list = []\n",
    "    \n",
    "    for word_list in story:\n",
    "        for v in word_list:\n",
    "            anime = []\n",
    "            anime.append(np.reshape(word_vector[v], (len(word_vector[v]),1)))\n",
    "        anime_list.append(np.mean(anime, axis=0))\n",
    "    anime_list = np.reshape(anime_list, (2120, 300))\n",
    "    \n",
    "    return(anime_list)"
   ]
  },
  {
   "cell_type": "code",
   "execution_count": 70,
   "id": "644f8f64",
   "metadata": {},
   "outputs": [],
   "source": [
    "anime_list = anime_vector(ko_model, story)"
   ]
  },
  {
   "cell_type": "code",
   "execution_count": 71,
   "id": "e52b15f0",
   "metadata": {},
   "outputs": [],
   "source": [
    "pd.concat([df['제목'], pd.DataFrame(anime_list)], axis=1).to_csv('Word2Vec.csv', index = False, encoding ='utf-8-sig')"
   ]
  },
  {
   "cell_type": "code",
   "execution_count": 74,
   "id": "bd708b3f",
   "metadata": {},
   "outputs": [],
   "source": [
    "from sklearn.metrics.pairwise import cosine_similarity\n",
    "from scipy.stats import pearsonr\n",
    "cosine_sim = cosine_similarity(pd.DataFrame(anime_list), pd.DataFrame(anime_list))\n",
    "pearson_sim = np.corrcoef(pd.DataFrame(anime_list))"
   ]
  },
  {
   "cell_type": "code",
   "execution_count": 75,
   "id": "b13d9f1f",
   "metadata": {},
   "outputs": [
    {
     "data": {
      "text/plain": [
       "(2120, 2120)"
      ]
     },
     "execution_count": 75,
     "metadata": {},
     "output_type": "execute_result"
    }
   ],
   "source": [
    "pearson_sim.shape"
   ]
  },
  {
   "cell_type": "code",
   "execution_count": 77,
   "id": "675c6632",
   "metadata": {},
   "outputs": [],
   "source": [
    "b = pd.DataFrame(cosine_sim)\n",
    "b.columns = df['제목']\n",
    "b.index = df['제목']"
   ]
  },
  {
   "cell_type": "code",
   "execution_count": 80,
   "id": "e030c781",
   "metadata": {},
   "outputs": [],
   "source": [
    "b.to_csv('코사인유사도계산W2v.csv', encoding='utf-8-sig')"
   ]
  },
  {
   "cell_type": "code",
   "execution_count": 82,
   "id": "d07b7d77",
   "metadata": {},
   "outputs": [],
   "source": [
    "c = pd.DataFrame(pearson_sim)\n",
    "c.columns = df['제목']\n",
    "c.index = df['제목']"
   ]
  },
  {
   "cell_type": "code",
   "execution_count": 83,
   "id": "55dca818",
   "metadata": {},
   "outputs": [],
   "source": [
    "c.to_csv('피어슨유사도계산W2v.csv', encoding='utf-8-sig')"
   ]
  }
 ],
 "metadata": {
  "kernelspec": {
   "display_name": "Python 3 (ipykernel)",
   "language": "python",
   "name": "python3"
  },
  "language_info": {
   "codemirror_mode": {
    "name": "ipython",
    "version": 3
   },
   "file_extension": ".py",
   "mimetype": "text/x-python",
   "name": "python",
   "nbconvert_exporter": "python",
   "pygments_lexer": "ipython3",
   "version": "3.10.9"
  }
 },
 "nbformat": 4,
 "nbformat_minor": 5
}
